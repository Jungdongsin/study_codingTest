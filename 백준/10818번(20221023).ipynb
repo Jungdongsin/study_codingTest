{
  "cells": [
    {
      "cell_type": "markdown",
      "metadata": {
        "id": "dv3Ns3J7TRq1"
      },
      "source": [
        "# 백준 10818번 문제\n",
        "- 최소, 최대\n",
        "- 1차원 배열 문제\n"
      ]
    },
    {
      "cell_type": "markdown",
      "metadata": {
        "id": "fVk6QMvbThIe"
      },
      "source": [
        "- 문제\n",
        "  - N개의 정수가 주어진다. 이때, 최솟값과 최댓값을 구하는 프로그램을 작성하시오.\n",
        "\n",
        "- Input\n",
        "  - 첫째 줄에 정수의 개수 N (1 ≤ N ≤ 1,000,000)이 주어진다.\n",
        "  - 둘째 줄에는 N개의 정수를 공백으로 구분해서 주어진다.\n",
        "  - 모든 정수는 -1,000,000보다 크거나 같고, 1,000,000보다 작거나 같은 정수이다.\n",
        "\n",
        "- Output\n",
        "  - 첫째 줄에 주어진 정수 N개의 최솟값과 최댓값을 공백으로 구분해 출력한다."
      ]
    },
    {
      "cell_type": "code",
      "execution_count": 2,
      "metadata": {},
      "outputs": [],
      "source": [
        "import pandas as pd"
      ]
    },
    {
      "cell_type": "code",
      "execution_count": 7,
      "metadata": {
        "id": "YirNUgYXWQs7"
      },
      "outputs": [],
      "source": [
        "a,b = map(int, input(\"숫자를 입력하세요 : \").split())"
      ]
    },
    {
      "cell_type": "code",
      "execution_count": 9,
      "metadata": {
        "id": "eULwgfetVilK"
      },
      "outputs": [
        {
          "name": "stdout",
          "output_type": "stream",
          "text": [
            "1\n",
            "2\n"
          ]
        }
      ],
      "source": [
        "print(a)\n",
        "print(b)"
      ]
    },
    {
      "cell_type": "code",
      "execution_count": null,
      "metadata": {},
      "outputs": [],
      "source": []
    }
  ],
  "metadata": {
    "colab": {
      "provenance": []
    },
    "kernelspec": {
      "display_name": "Python 3.9.12 ('base')",
      "language": "python",
      "name": "python3"
    },
    "language_info": {
      "codemirror_mode": {
        "name": "ipython",
        "version": 3
      },
      "file_extension": ".py",
      "mimetype": "text/x-python",
      "name": "python",
      "nbconvert_exporter": "python",
      "pygments_lexer": "ipython3",
      "version": "3.9.12"
    },
    "vscode": {
      "interpreter": {
        "hash": "0406d19bda1fbea09f583b3d3e71462aea9da7cbc837a10ade34850525f7fa2f"
      }
    }
  },
  "nbformat": 4,
  "nbformat_minor": 0
}

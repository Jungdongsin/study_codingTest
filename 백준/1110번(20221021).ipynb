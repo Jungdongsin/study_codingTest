{
  "cells": [
    {
      "cell_type": "markdown",
      "metadata": {
        "id": "MKL-ZUyO9lzv"
      },
      "source": [
        "## 백준 3단계 1110번 문제\n",
        "### 제목 : 더하기 사이클"
      ]
    },
    {
      "cell_type": "markdown",
      "metadata": {
        "id": "dB7_NvTY9lzz"
      },
      "source": [
        "0보다 크거나 같고, 99보다 작거나 같은 정수가 주어질 때 다음과 같은 연산을 할 수 있다. \\\n",
        "먼저 주어진 수가 10보다 작다면 앞에 0을 붙여 두 자리 수로 만들고, 각 자리의 숫자를 더한다. \\\n",
        "그 다음, 주어진 수의 가장 오른쪽 자리 수와 앞에서 구한 합의 가장 오른쪽 자리 수를 이어 붙이면 새로운 수를 만들 수 있다. \\\n",
        "다음 예를 보자.\n",
        "\n",
        "26부터 시작한다. 2+6 = 8이다. 새로운 수는 68이다. 6+8 = 14이다. 새로운 수는 84이다. 8+4 = 12이다. 새로운 수는 42이다. 4+2 = 6이다. 새로운 수는 26이다.\n",
        "\n",
        "위의 예는 4번만에 원래 수로 돌아올 수 있다. 따라서 26의 사이클의 길이는 4이다.\n",
        "\n",
        "N이 주어졌을 때, N의 사이클의 길이를 구하는 프로그램을 작성하시오."
      ]
    },
    {
      "cell_type": "markdown",
      "metadata": {
        "id": "gUpQ0lt69lz1"
      },
      "source": [
        "- 입력 : 첫째 줄에 N이 주어진다. N은 0보다 크거나 같고, 99보다 작거나 같은 정수이다.\n",
        "- 출력 : 첫째 줄에 N의 사이클 길이를 출력한다."
      ]
    },
    {
      "cell_type": "code",
      "execution_count": null,
      "metadata": {
        "id": "nGo2JK8d-cyD"
      },
      "outputs": [],
      "source": [
        "import re # 정규식"
      ]
    },
    {
      "cell_type": "markdown",
      "metadata": {
        "id": "Uzv7DU06IqHu"
      },
      "source": [
        "- Think \\\n",
        "반복문\n",
        "  첫번째(a) + 두번째(b) = c \\\n",
        "  count += 1 \\\n",
        "  if c = x: \\\n",
        "    break \\\n",
        "  print(카운트 변수)"
      ]
    },
    {
      "cell_type": "code",
      "execution_count": null,
      "metadata": {
        "colab": {
          "base_uri": "https://localhost:8080/"
        },
        "id": "NRPu3itP9lz1",
        "outputId": "20b8e10c-adc1-4e87-9f1f-409a58989eae"
      },
      "outputs": [
        {
          "name": "stdout",
          "output_type": "stream",
          "text": [
            "input number(only int) : 26\n"
          ]
        }
      ],
      "source": [
        "# 정수만 입력가능하도록 input 생성\n",
        "x = int(input(\"input number(only int) : \"))"
      ]
    },
    {
      "cell_type": "code",
      "execution_count": null,
      "metadata": {
        "colab": {
          "base_uri": "https://localhost:8080/"
        },
        "id": "JMwchpnOHE09",
        "outputId": "0c7a323e-3c8f-4285-d58f-ca40d4252a8c"
      },
      "outputs": [
        {
          "name": "stdout",
          "output_type": "stream",
          "text": [
            "4\n"
          ]
        }
      ],
      "source": [
        "# c = x//10 + x%10\n",
        "num = x # x는 input값 \n",
        "count = 0 # 사이클 수 체크\n",
        "\n",
        "while True :\n",
        "  a = num//10\n",
        "  b = num%10\n",
        "  c = (a + b) % 10\n",
        "  num = (b*10) + c\n",
        "  \"\"\"\n",
        "  input값이 26이면\n",
        "  a는 2, b는 6, c는 8, num은 68\n",
        "  \"\"\"\n",
        "  count += 1\n",
        "  if(num == x):\n",
        "    break\n",
        "print(count)\n",
        "    # return 함수의 실행 끝맺는 문장\n",
        "    # continue 반복문의 실행 중단(특정 시점 반복 중단)\n",
        "    # break 반복문의 실행 중단(전체 반복 중단)"
      ]
    },
    {
      "cell_type": "code",
      "execution_count": null,
      "metadata": {
        "id": "S8ef7nV8WfYd"
      },
      "outputs": [],
      "source": []
    }
  ],
  "metadata": {
    "colab": {
      "collapsed_sections": [],
      "provenance": []
    },
    "kernelspec": {
      "display_name": "Python 3.9.12 ('base')",
      "language": "python",
      "name": "python3"
    },
    "language_info": {
      "name": "python",
      "version": "3.9.12"
    },
    "orig_nbformat": 4,
    "vscode": {
      "interpreter": {
        "hash": "0406d19bda1fbea09f583b3d3e71462aea9da7cbc837a10ade34850525f7fa2f"
      }
    }
  },
  "nbformat": 4,
  "nbformat_minor": 0
}
